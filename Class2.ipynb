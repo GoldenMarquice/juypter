{
 "cells": [
  {
   "cell_type": "code",
   "execution_count": 5,
   "id": "5d460575-8ac7-432e-ac36-53becdee53dd",
   "metadata": {},
   "outputs": [
    {
     "name": "stdout",
     "output_type": "stream",
     "text": [
      "11\n"
     ]
    }
   ],
   "source": [
    "def myfunction(n):\n",
    "    return n+1\n",
    "\n",
    "a = 5 + myfunction(5)\n",
    "\n",
    "a\n",
    "\n",
    "print(a)"
   ]
  },
  {
   "cell_type": "code",
   "execution_count": 1,
   "id": "96455a42-a3f7-4c71-868d-0f9439bec1d9",
   "metadata": {},
   "outputs": [],
   "source": [
    "# Simplified implenentation of Stack relying on built-in data structures \n",
    "\n",
    "class Stack:\n",
    "    def __init__(self):\n",
    "        self.items = []\n",
    "\n",
    "    def push(self, value):\n",
    "        self.items.append(value)\n",
    "\n",
    "    def pop(self):\n",
    "        return self.items.pop()\n",
    "\n",
    "    #nice to have methods:\n",
    "    def peek(self):\n",
    "        return self.items[len(self.items-1)]\n",
    "\n",
    "    def size(self):\n",
    "        return len(self.items)\n",
    "\n",
    "    def is_empty(self):\n",
    "        return self.items == []\n",
    "\n"
   ]
  },
  {
   "cell_type": "code",
   "execution_count": 11,
   "id": "738ea5cc-ab1f-44cb-87e7-9065c06f4fc8",
   "metadata": {},
   "outputs": [
    {
     "data": {
      "text/plain": [
       "'eciuqraM'"
      ]
     },
     "execution_count": 11,
     "metadata": {},
     "output_type": "execute_result"
    }
   ],
   "source": [
    "\n",
    "def invert_str(mystring):\n",
    "    out = \"\"\n",
    "    stack = Stack()\n",
    "    for char in mystring:\n",
    "        stack.push(char)\n",
    "    while not stack.is_empty():\n",
    "        out += stack.pop()\n",
    "    return out\n",
    "\n",
    "invert_str(\"Marquice\")"
   ]
  },
  {
   "cell_type": "code",
   "execution_count": 13,
   "id": "3b27db5d-db71-40ea-9b1c-b2bbc5216814",
   "metadata": {},
   "outputs": [
    {
     "name": "stdout",
     "output_type": "stream",
     "text": [
      "4385678656\n",
      "4385678688\n"
     ]
    }
   ],
   "source": [
    "# In python native or primary data types all pass by value\n",
    "# primary data types in python: int , float, bool and allegedly imaginary numbers.\n",
    "\n",
    "#demo\n",
    "\n",
    "x = 5\n",
    "y = x\n",
    "\n",
    "x += 1\n",
    "\n",
    "print(id(y))\n",
    "print(id(x))"
   ]
  },
  {
   "cell_type": "code",
   "execution_count": 20,
   "id": "9f15d3f0-d0aa-4b97-8aef-00663e58c9cf",
   "metadata": {},
   "outputs": [
    {
     "name": "stdout",
     "output_type": "stream",
     "text": [
      "[1, 2, 3, 4]\n",
      "4467373248\n",
      "4467373248\n"
     ]
    }
   ],
   "source": [
    "# In python data structures that are not considered \"primary data types\" all pass by reference.\n",
    "\n",
    "x = [1,2,3]\n",
    "\n",
    "y = x\n",
    "\n",
    "x.append(4)\n",
    "\n",
    "print (y)\n",
    "print(id(y))\n",
    "print(id(x))\n"
   ]
  },
  {
   "cell_type": "code",
   "execution_count": 2,
   "id": "638068a1-5e8c-4876-84ae-af0a007d8b40",
   "metadata": {},
   "outputs": [],
   "source": [
    "# From scratch implementation of stack\n",
    "\n",
    "class StackII:\n",
    "    class __Node:\n",
    "        def __Init__(self, data):\n",
    "            self.data = data\n",
    "            self.below = None\n",
    "            \n",
    "    def __init__(self):\n",
    "            self.top = None\n",
    "\n",
    "    def push(self,value):\n",
    "        new_node = self.__Node(value)\n",
    "        if not self.top:\n",
    "            self.top = new_node\n",
    "        else:\n",
    "            current = self.top\n",
    "            self.top = new_node\n",
    "            new_node.below = current\n",
    "    \n",
    "    def pop(self):\n",
    "        if self.top:\n",
    "            datum = self.top.data\n",
    "            self.top = self.top.below\n",
    "            return datum\n",
    "        raise IndexError(\"Stack is empty\")\n",
    "\n",
    "    #Nice to have methods:\n",
    "    #Returns but does not remove the topmost data element (value, not node)\n",
    "    def peek(self):\n",
    "        if not self.top:\n",
    "            raise IndexError(\"Stack is empty\")\n",
    "        else:\n",
    "            return self.top.data\n",
    "            \n",
    "    #Returns the total amount of elements (nodes) in our stack  \n",
    "    def size(self):\n",
    "        # 0(n)\n",
    "        total = 0\n",
    "        if self.top:\n",
    "            current = self.top \n",
    "        while current:\n",
    "            current  = currrent.below\n",
    "            total +=1\n",
    "        return total\n",
    "        # Traversal\n",
    "        \n",
    "            \n",
    "    #Returns True when the stack is empty, false otherwise        \n",
    "    def is_empty(self):\n",
    "\n",
    "        return self.top == none\n",
    "        "
   ]
  },
  {
   "cell_type": "code",
   "execution_count": null,
   "id": "0dba34d6-3ac0-4401-b4ee-f33e42b06162",
   "metadata": {},
   "outputs": [],
   "source": []
  }
 ],
 "metadata": {
  "kernelspec": {
   "display_name": "Python 3 (ipykernel)",
   "language": "python",
   "name": "python3"
  },
  "language_info": {
   "codemirror_mode": {
    "name": "ipython",
    "version": 3
   },
   "file_extension": ".py",
   "mimetype": "text/x-python",
   "name": "python",
   "nbconvert_exporter": "python",
   "pygments_lexer": "ipython3",
   "version": "3.11.4"
  }
 },
 "nbformat": 4,
 "nbformat_minor": 5
}
