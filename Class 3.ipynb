{
 "cells": [
  {
   "cell_type": "code",
   "execution_count": 7,
   "id": "3ed29905-68f8-41d2-9b03-842742f2346a",
   "metadata": {},
   "outputs": [],
   "source": [
    "# Simplified implementation for Queue (using built-in data structures)\n",
    "\n",
    "class Queue:\n",
    "    def __init__(self):\n",
    "        self.items = []\n",
    "        \n",
    "    def enqueue(self, value):\n",
    "        self.items.insert(0, value)\n",
    "\n",
    "    def dequeue(self):\n",
    "        return self.items.pop()\n",
    "\n",
    "    # nice to have methods:\n",
    "    def peek(self):\n",
    "        return self.items[len(self.items)-1]\n",
    "\n",
    "    def size(self):\n",
    "        return len(self.items)\n",
    "\n",
    "    def is_empty(self):\n",
    "        return self.items == []\n",
    "        \n",
    "    "
   ]
  },
  {
   "cell_type": "code",
   "execution_count": 8,
   "id": "253bbb2e-6daa-4550-8cd9-6b87d90298bc",
   "metadata": {},
   "outputs": [
    {
     "name": "stdout",
     "output_type": "stream",
     "text": [
      "1\n",
      "2\n",
      "3\n",
      "4\n",
      "5\n",
      "6\n",
      "7\n",
      "8\n",
      "9\n",
      "10\n"
     ]
    }
   ],
   "source": [
    "queue = Queue()\n",
    "\n",
    "for number in range(1,11):\n",
    "    queue.enqueue(number)\n",
    "\n",
    "while not queue.is_empty():\n",
    "    print(queue.dequeue())"
   ]
  },
  {
   "cell_type": "code",
   "execution_count": 29,
   "id": "35a371bd-3599-43c2-bd29-245f8ddbc4a0",
   "metadata": {},
   "outputs": [
    {
     "name": "stdout",
     "output_type": "stream",
     "text": [
      "inital queue\n",
      "<__main__.Queue object at 0x10bf00b10>\n"
     ]
    }
   ],
   "source": [
    "class QueueII:\n",
    "    \n",
    "    queue.front = None\n",
    "    queue.back = None\n",
    "\n",
    "    def __init__(queue, data):\n",
    "        queue.data = data\n",
    "        queue.prev = None\n",
    "\n",
    "    def __init__(queue):\n",
    "        queue.front = None\n",
    "        queue.back = None\n",
    "\n",
    "    def enqueue(queue, data):\n",
    "        new_node = queue.Node(value)\n",
    "        if not self.back: #this is the same as saying \"if self.back is None\"\n",
    "            #Here is what happes when the queue is empty:\n",
    "            queue.back = new_node\n",
    "            queue.front = new_node\n",
    "        else:\n",
    "            current_back = queue.back\n",
    "            queue.back = new_node\n",
    "            current_back = new_node.prev\n",
    "\n",
    "    def dequeue(queue):\n",
    "        if queue.front:\n",
    "            data = queue.front.data\n",
    "            queue.front = queue.front.prev\n",
    "            if not queue.front:\n",
    "                self.back = None\n",
    "            return data\n",
    "        raise IndexError(\"Queue is empty\")\n",
    "    \n",
    "\n",
    "print(\"inital queue\")\n",
    "print(queue)\n",
    "\n",
    "\n",
    "        "
   ]
  }
 ],
 "metadata": {
  "kernelspec": {
   "display_name": "Python 3 (ipykernel)",
   "language": "python",
   "name": "python3"
  },
  "language_info": {
   "codemirror_mode": {
    "name": "ipython",
    "version": 3
   },
   "file_extension": ".py",
   "mimetype": "text/x-python",
   "name": "python",
   "nbconvert_exporter": "python",
   "pygments_lexer": "ipython3",
   "version": "3.11.4"
  }
 },
 "nbformat": 4,
 "nbformat_minor": 5
}
